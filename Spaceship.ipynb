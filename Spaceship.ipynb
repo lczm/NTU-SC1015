{
 "cells": [
  {
   "cell_type": "markdown",
   "id": "17f57571-f104-43f3-841e-a5b86b6415de",
   "metadata": {},
   "source": [
    "# Group 4\n",
    "\n",
    "### Problem Statement\n",
    "Given this huge dataset of many various indicators, we would like to use machine learning, to be used on these indicators, that any regular adult can obtain by going through a health screening - to evaluate the risk any given individual has for heart disease."
   ]
  },
  {
   "cell_type": "code",
   "execution_count": 1,
   "id": "50e79f49-a2d0-405e-83d4-4097ef61ab03",
   "metadata": {},
   "outputs": [],
   "source": [
    "import pandas as pd\n",
    "import numpy as np\n",
    "import seaborn as sb\n",
    "import matplotlib.pyplot as plt\n",
    "from pandas.api.types import is_string_dtype\n",
    "sb.set()"
   ]
  },
  {
   "cell_type": "markdown",
   "id": "832cf851-be39-4730-88dd-fbf3bc79d20e",
   "metadata": {},
   "source": [
    "### Import the dataset"
   ]
  },
  {
   "cell_type": "code",
   "execution_count": 2,
   "id": "5575a9a1-5f3e-42cc-8c44-5e2d7a2f7c47",
   "metadata": {},
   "outputs": [
    {
     "name": "stdout",
     "output_type": "stream",
     "text": [
      "<class 'pandas.core.frame.DataFrame'>\n",
      "RangeIndex: 246022 entries, 0 to 246021\n",
      "Data columns (total 40 columns):\n",
      " #   Column                     Non-Null Count   Dtype  \n",
      "---  ------                     --------------   -----  \n",
      " 0   State                      246022 non-null  object \n",
      " 1   Sex                        246022 non-null  object \n",
      " 2   GeneralHealth              246022 non-null  object \n",
      " 3   PhysicalHealthDays         246022 non-null  float64\n",
      " 4   MentalHealthDays           246022 non-null  float64\n",
      " 5   LastCheckupTime            246022 non-null  object \n",
      " 6   PhysicalActivities         246022 non-null  object \n",
      " 7   SleepHours                 246022 non-null  float64\n",
      " 8   RemovedTeeth               246022 non-null  object \n",
      " 9   HadHeartAttack             246022 non-null  object \n",
      " 10  HadAngina                  246022 non-null  object \n",
      " 11  HadStroke                  246022 non-null  object \n",
      " 12  HadAsthma                  246022 non-null  object \n",
      " 13  HadSkinCancer              246022 non-null  object \n",
      " 14  HadCOPD                    246022 non-null  object \n",
      " 15  HadDepressiveDisorder      246022 non-null  object \n",
      " 16  HadKidneyDisease           246022 non-null  object \n",
      " 17  HadArthritis               246022 non-null  object \n",
      " 18  HadDiabetes                246022 non-null  object \n",
      " 19  DeafOrHardOfHearing        246022 non-null  object \n",
      " 20  BlindOrVisionDifficulty    246022 non-null  object \n",
      " 21  DifficultyConcentrating    246022 non-null  object \n",
      " 22  DifficultyWalking          246022 non-null  object \n",
      " 23  DifficultyDressingBathing  246022 non-null  object \n",
      " 24  DifficultyErrands          246022 non-null  object \n",
      " 25  SmokerStatus               246022 non-null  object \n",
      " 26  ECigaretteUsage            246022 non-null  object \n",
      " 27  ChestScan                  246022 non-null  object \n",
      " 28  RaceEthnicityCategory      246022 non-null  object \n",
      " 29  AgeCategory                246022 non-null  object \n",
      " 30  HeightInMeters             246022 non-null  float64\n",
      " 31  WeightInKilograms          246022 non-null  float64\n",
      " 32  BMI                        246022 non-null  float64\n",
      " 33  AlcoholDrinkers            246022 non-null  object \n",
      " 34  HIVTesting                 246022 non-null  object \n",
      " 35  FluVaxLast12               246022 non-null  object \n",
      " 36  PneumoVaxEver              246022 non-null  object \n",
      " 37  TetanusLast10Tdap          246022 non-null  object \n",
      " 38  HighRiskLastYear           246022 non-null  object \n",
      " 39  CovidPos                   246022 non-null  object \n",
      "dtypes: float64(6), object(34)\n",
      "memory usage: 75.1+ MB\n",
      "None\n"
     ]
    }
   ],
   "source": [
    "df = pd.read_csv('data/heart_2022_no_nans.csv')\n",
    "# Preliminary check of the data\n",
    "print(df.info())"
   ]
  },
  {
   "cell_type": "markdown",
   "id": "1bc59d9d-8f75-48a0-b305-02fa8375bd88",
   "metadata": {},
   "source": [
    "From the above, we can see that there is a lot of categorical data. A few numerical data, like Height and Weight."
   ]
  },
  {
   "cell_type": "markdown",
   "id": "9df36981-fc71-4460-8e66-54da117106b5",
   "metadata": {},
   "source": [
    "#### Data Cleaning\n",
    "We would like to first check if the data is clean. We can first check if there exists any rows that has nulls in them."
   ]
  },
  {
   "cell_type": "code",
   "execution_count": 3,
   "id": "ad8ffbe3-eec7-4f9c-abf8-a73199c25028",
   "metadata": {},
   "outputs": [
    {
     "name": "stdout",
     "output_type": "stream",
     "text": [
      "False\n"
     ]
    }
   ],
   "source": [
    "print(df.isnull().values.any())"
   ]
  },
  {
   "cell_type": "markdown",
   "id": "86c3509b-2e74-460e-bd98-77a1dbbdf4a4",
   "metadata": {},
   "source": [
    "This tells us that there are no null values in any of the rows in the dataset. This is good. Next, we want to check if there are any odd values in the dataset. We can do this by looking and eyeballing."
   ]
  },
  {
   "cell_type": "code",
   "execution_count": 4,
   "id": "1f073cdb-00ef-4841-abc0-99a2ed9dae7a",
   "metadata": {},
   "outputs": [
    {
     "name": "stdout",
     "output_type": "stream",
     "text": [
      "State ['Alabama' 'Alaska' 'Arizona' 'Arkansas' 'California' 'Colorado'\n",
      " 'Connecticut' 'Delaware' 'District of Columbia' 'Florida' 'Georgia'\n",
      " 'Hawaii' 'Idaho' 'Illinois' 'Indiana' 'Iowa' 'Kansas' 'Kentucky'\n",
      " 'Louisiana' 'Maine' 'Maryland' 'Massachusetts' 'Michigan' 'Minnesota'\n",
      " 'Mississippi' 'Missouri' 'Montana' 'Nebraska' 'Nevada' 'New Hampshire'\n",
      " 'New Jersey' 'New Mexico' 'New York' 'North Carolina' 'North Dakota'\n",
      " 'Ohio' 'Oklahoma' 'Oregon' 'Pennsylvania' 'Rhode Island' 'South Carolina'\n",
      " 'South Dakota' 'Tennessee' 'Texas' 'Utah' 'Vermont' 'Virginia'\n",
      " 'Washington' 'West Virginia' 'Wisconsin' 'Wyoming' 'Guam' 'Puerto Rico'\n",
      " 'Virgin Islands']\n",
      "Sex ['Female' 'Male']\n",
      "GeneralHealth ['Very good' 'Fair' 'Good' 'Excellent' 'Poor']\n",
      "LastCheckupTime ['Within past year (anytime less than 12 months ago)'\n",
      " '5 or more years ago'\n",
      " 'Within past 2 years (1 year but less than 2 years ago)'\n",
      " 'Within past 5 years (2 years but less than 5 years ago)']\n",
      "PhysicalActivities ['Yes' 'No']\n",
      "RemovedTeeth ['None of them' '6 or more, but not all' '1 to 5' 'All']\n",
      "HadHeartAttack ['No' 'Yes']\n",
      "HadAngina ['No' 'Yes']\n",
      "HadStroke ['No' 'Yes']\n",
      "HadAsthma ['No' 'Yes']\n",
      "HadSkinCancer ['No' 'Yes']\n",
      "HadCOPD ['No' 'Yes']\n",
      "HadDepressiveDisorder ['No' 'Yes']\n",
      "HadKidneyDisease ['No' 'Yes']\n",
      "HadArthritis ['Yes' 'No']\n",
      "HadDiabetes ['No' 'Yes' 'Yes, but only during pregnancy (female)'\n",
      " 'No, pre-diabetes or borderline diabetes']\n",
      "DeafOrHardOfHearing ['No' 'Yes']\n",
      "BlindOrVisionDifficulty ['No' 'Yes']\n",
      "DifficultyConcentrating ['No' 'Yes']\n",
      "DifficultyWalking ['No' 'Yes']\n",
      "DifficultyDressingBathing ['No' 'Yes']\n",
      "DifficultyErrands ['No' 'Yes']\n",
      "SmokerStatus ['Former smoker' 'Never smoked' 'Current smoker - now smokes every day'\n",
      " 'Current smoker - now smokes some days']\n",
      "ECigaretteUsage ['Never used e-cigarettes in my entire life' 'Use them some days'\n",
      " 'Not at all (right now)' 'Use them every day']\n",
      "ChestScan ['No' 'Yes']\n",
      "RaceEthnicityCategory ['White only, Non-Hispanic' 'Black only, Non-Hispanic'\n",
      " 'Other race only, Non-Hispanic' 'Multiracial, Non-Hispanic' 'Hispanic']\n",
      "AgeCategory ['Age 65 to 69' 'Age 70 to 74' 'Age 75 to 79' 'Age 80 or older'\n",
      " 'Age 50 to 54' 'Age 40 to 44' 'Age 60 to 64' 'Age 55 to 59'\n",
      " 'Age 45 to 49' 'Age 35 to 39' 'Age 25 to 29' 'Age 30 to 34'\n",
      " 'Age 18 to 24']\n",
      "AlcoholDrinkers ['No' 'Yes']\n",
      "HIVTesting ['No' 'Yes']\n",
      "FluVaxLast12 ['Yes' 'No']\n",
      "PneumoVaxEver ['Yes' 'No']\n",
      "TetanusLast10Tdap ['Yes, received Tdap' 'Yes, received tetanus shot but not sure what type'\n",
      " 'No, did not receive any tetanus shot in the past 10 years'\n",
      " 'Yes, received tetanus shot, but not Tdap']\n",
      "HighRiskLastYear ['No' 'Yes']\n",
      "CovidPos ['No' 'Yes'\n",
      " 'Tested positive using home test without a health professional']\n"
     ]
    }
   ],
   "source": [
    "for column in df:\n",
    "    if is_string_dtype(df[column]):\n",
    "        print(column, df[column].unique())"
   ]
  },
  {
   "cell_type": "markdown",
   "id": "6eb38ea5-824c-48c4-8853-0a0f0748165b",
   "metadata": {},
   "source": [
    "We want to check for categorical data, as we will not be able to look for any \"odd\" values for numerical values until we do some form of analysis. Most of the columns look fine, but there are some weird ones\n",
    "\n",
    "- HadDiabetes (Yes, but only during pregnancy (female))\n",
    "- HadDiabetes (No, pre-diabetes or borderline diabetes)\n",
    "- ECigaretteUsage (Not at all (right now))\n",
    "- CovidPos (Tested positive using home test without a health professional)\n",
    "\n",
    "We want to check if these values are significant. If they are not a significant portion of the dataset, looking at these features specifically would not give us any new insights."
   ]
  },
  {
   "cell_type": "code",
   "execution_count": 5,
   "id": "4ce6d6ea-acb1-49c1-b73e-bc2946fedc5b",
   "metadata": {},
   "outputs": [
    {
     "name": "stdout",
     "output_type": "stream",
     "text": [
      "Had Diabetes : Yes, but only during pregnancy (female) :  0.008060254773963304\n",
      "Had Diabetes : No, pre-diabetes or borderline diabetes :  0.021916739153409043\n",
      "ECigaretteUsage : Not at all (right now) :  0.17592329141296306\n",
      "CovidPos : Tested positive using home test without a health professional:  0.034110770581492714\n"
     ]
    }
   ],
   "source": [
    "print(\"Had Diabetes : Yes, but only during pregnancy (female) : \", len(df.loc[df['HadDiabetes'] == 'Yes, but only during pregnancy (female)']) / len(df))\n",
    "print(\"Had Diabetes : No, pre-diabetes or borderline diabetes : \", len(df.loc[df['HadDiabetes'] == 'No, pre-diabetes or borderline diabetes']) / len(df))\n",
    "print(\"ECigaretteUsage : Not at all (right now) : \", len(df.loc[df['ECigaretteUsage'] == 'Not at all (right now)']) / len(df))\n",
    "print(\"CovidPos : Tested positive using home test without a health professional: \", len(df.loc[df['CovidPos'] == 'Tested positive using home test without a health professional']) / len(df))"
   ]
  },
  {
   "cell_type": "markdown",
   "id": "9081b42c-411c-4d10-ae54-20a144af44a3",
   "metadata": {},
   "source": [
    "We can see that both options for diabetes is definitely not significant. CovidPos is also not significant as well. The option for ECigarette Usage is very significant, almost 1/5 of the dataset. We will keep that one in."
   ]
  },
  {
   "cell_type": "code",
   "execution_count": 6,
   "id": "9b3161cf-e39c-40fb-85b8-54f4d9be88ed",
   "metadata": {},
   "outputs": [],
   "source": [
    "df['HadDiabetes'] = df['HadDiabetes'].replace('Yes, but only during pregnancy (female)', 'Yes')\n",
    "df['HadDiabetes'] = df['HadDiabetes'].replace('No, pre-diabetes or borderline diabetes', 'No')\n",
    "df['CovidPos'] = df['CovidPos'].replace('Tested positive using home test without a health professional', 'Yes')"
   ]
  },
  {
   "cell_type": "markdown",
   "id": "b2694702-0dbb-4c24-92ad-18883ca9f180",
   "metadata": {},
   "source": [
    "Check that the replacements are correct."
   ]
  },
  {
   "cell_type": "code",
   "execution_count": 8,
   "id": "0affd05f-460f-4ddb-82ce-b19287dce3ac",
   "metadata": {},
   "outputs": [
    {
     "name": "stdout",
     "output_type": "stream",
     "text": [
      "['No' 'Yes']\n",
      "['No' 'Yes']\n"
     ]
    }
   ],
   "source": [
    "print(df['HadDiabetes'].unique())\n",
    "print(df['CovidPos'].unique())"
   ]
  },
  {
   "cell_type": "markdown",
   "id": "69955764-0ccb-479b-b043-d0832b483ca6",
   "metadata": {},
   "source": [
    "### Exploratory Data Analysis\n",
    "Given so many variables, the immediate task is to find out which variables are the most meaningful and contribute to the final response (HadHeartAttack). We can first do this by plotting a correlation heatmap, to sieve out what's useful and what's not."
   ]
  },
  {
   "cell_type": "code",
   "execution_count": null,
   "id": "2774cd96-7539-47ab-b0f0-aaac8f9e4bce",
   "metadata": {},
   "outputs": [],
   "source": []
  },
  {
   "cell_type": "code",
   "execution_count": null,
   "id": "f584e8c3-e3bd-4fc7-beab-b34f0ac37b47",
   "metadata": {},
   "outputs": [],
   "source": []
  }
 ],
 "metadata": {
  "kernelspec": {
   "display_name": "Python 3 (ipykernel)",
   "language": "python",
   "name": "python3"
  },
  "language_info": {
   "codemirror_mode": {
    "name": "ipython",
    "version": 3
   },
   "file_extension": ".py",
   "mimetype": "text/x-python",
   "name": "python",
   "nbconvert_exporter": "python",
   "pygments_lexer": "ipython3",
   "version": "3.12.2"
  }
 },
 "nbformat": 4,
 "nbformat_minor": 5
}
