{
 "cells": [
  {
   "cell_type": "markdown",
   "id": "fcdafa25-96d6-437e-b443-932a52b70c76",
   "metadata": {},
   "source": [
    "# Wolf, goat and cabbage problem\n",
    "\n",
    "River crossing puzzle."
   ]
  },
  {
   "cell_type": "code",
   "execution_count": 1,
   "id": "e82da410-332c-4085-9bb4-749b74a76d42",
   "metadata": {},
   "outputs": [],
   "source": [
    "import numpy as np\n",
    "import networkx as nx\n",
    "\n",
    "from enum import Enum\n",
    "from copy import deepcopy\n",
    "from pprint import pprint"
   ]
  },
  {
   "cell_type": "markdown",
   "id": "a729291c-a9b3-48c9-a0e6-e86fe11de37e",
   "metadata": {},
   "source": [
    "## Defining the game"
   ]
  },
  {
   "cell_type": "code",
   "execution_count": 2,
   "id": "c216c17a-3fc8-48c7-978c-4b24b6cfc678",
   "metadata": {},
   "outputs": [],
   "source": [
    "class Location(Enum):\n",
    "    A = 1\n",
    "    B = 2\n",
    "\n",
    "class State:\n",
    "    man = Location.A\n",
    "    wolf = Location.A\n",
    "    goat = Location.A\n",
    "    cabbage = Location.A\n",
    "\n",
    "    def __init__(self, man, wolf, goat, cabbage):\n",
    "        self.man = man\n",
    "        self.wolf = wolf\n",
    "        self.goat = goat\n",
    "        self.cabbage = cabbage\n",
    "\n",
    "    def __eq__(self, other):\n",
    "        if (\n",
    "            self.man == other.man\n",
    "            and self.wolf == other.wolf\n",
    "            and self.goat == other.goat\n",
    "            and self.cabbage == other.cabbage\n",
    "        ):\n",
    "            return True\n",
    "        return False\n",
    "\n",
    "    def __hash__(self):\n",
    "        return hash((self.man, self.wolf, self.goat, self.cabbage))\n",
    "\n",
    "    def __repr__(self):\n",
    "        return f\"{self.man},{self.wolf},{self.goat},{self.cabbage}\"\n"
   ]
  },
  {
   "cell_type": "markdown",
   "id": "599f5ac7-fe97-4754-b8b5-9e676103b9c5",
   "metadata": {},
   "source": [
    "Let's first define the start and end state"
   ]
  },
  {
   "cell_type": "code",
   "execution_count": 3,
   "id": "dab9ff4d-ed8b-470a-8cd5-d42c0b868cd3",
   "metadata": {},
   "outputs": [],
   "source": [
    "initial_state = State(Location.A, Location.A, Location.A, Location.A)\n",
    "goal_state = State(Location.B, Location.B, Location.B, Location.B)"
   ]
  },
  {
   "cell_type": "code",
   "execution_count": 4,
   "id": "09744d1d-4397-4499-9aed-382dfdde1246",
   "metadata": {},
   "outputs": [],
   "source": [
    "class Graph:\n",
    "    def __init__(self):\n",
    "        self.edges = {}\n",
    "\n",
    "    def neighbors(self, node):\n",
    "        return self.edges[node]\n",
    "\n",
    "\n",
    "graph = Graph()"
   ]
  },
  {
   "cell_type": "code",
   "execution_count": 8,
   "id": "2aeb7966-0e5e-4cf8-b694-ee4fbed9b6e2",
   "metadata": {},
   "outputs": [],
   "source": [
    "def is_valid(state):\n",
    "    if state.goat == state.cabbage and state.man != state.goat:\n",
    "        return False\n",
    "    if state.wolf == state.goat and state.man != state.wolf:\n",
    "        return False\n",
    "    return True\n",
    "\n",
    "\n",
    "def next_states(state):\n",
    "    current = state.man\n",
    "    next = Location.B if state.man == Location.A else Location.A\n",
    "    moves = []\n",
    "    # Include the farmer moving by himself\n",
    "    alone = deepcopy(state)\n",
    "    alone.man = next\n",
    "    moves.append(alone)\n",
    "\n",
    "    for thing in [\"wolf\", \"goat\", \"cabbage\"]:\n",
    "        if getattr(state, thing) == state.man:\n",
    "            copy = deepcopy(state)\n",
    "            setattr(copy, thing, next)\n",
    "            copy.man = next\n",
    "            moves.append(copy)\n",
    "\n",
    "    return moves"
   ]
  },
  {
   "cell_type": "code",
   "execution_count": 9,
   "id": "091cca46-4b8e-41d2-a04f-d2c2485ce49c",
   "metadata": {},
   "outputs": [],
   "source": [
    "# Encode all states into the graph\n",
    "def encode(state):\n",
    "    if state == goal_state:\n",
    "        return\n",
    "    if state not in graph.edges.keys():\n",
    "        nodes = next_states(state)\n",
    "        graph.edges[state] = nodes\n",
    "        for node in nodes:\n",
    "            encode(node)"
   ]
  },
  {
   "cell_type": "code",
   "execution_count": 10,
   "id": "e20a58b7-51f8-4dbd-a9bb-73a44d6cd4cd",
   "metadata": {},
   "outputs": [],
   "source": [
    "encode(initial_state)"
   ]
  },
  {
   "cell_type": "code",
   "execution_count": 11,
   "id": "80c80b25-f4dd-434d-a637-932cd194b478",
   "metadata": {},
   "outputs": [
    {
     "name": "stdout",
     "output_type": "stream",
     "text": [
      "{Location.B,Location.B,Location.A,Location.A: [Location.A,Location.B,Location.A,Location.A,\n",
      "                                               Location.A,Location.A,Location.A,Location.A],\n",
      " Location.B,Location.A,Location.A,Location.A: [Location.A,Location.A,Location.A,Location.A],\n",
      " Location.A,Location.A,Location.A,Location.A: [Location.B,Location.A,Location.A,Location.A,\n",
      "                                               Location.B,Location.B,Location.A,Location.A,\n",
      "                                               Location.B,Location.A,Location.B,Location.A,\n",
      "                                               Location.B,Location.A,Location.A,Location.B],\n",
      " Location.A,Location.B,Location.B,Location.A: [Location.B,Location.B,Location.B,Location.A,\n",
      "                                               Location.B,Location.B,Location.B,Location.B],\n",
      " Location.B,Location.B,Location.B,Location.A: [Location.A,Location.B,Location.B,Location.A,\n",
      "                                               Location.A,Location.A,Location.B,Location.A,\n",
      "                                               Location.A,Location.B,Location.A,Location.A],\n",
      " Location.A,Location.B,Location.A,Location.A: [Location.B,Location.B,Location.A,Location.A,\n",
      "                                               Location.B,Location.B,Location.B,Location.A,\n",
      "                                               Location.B,Location.B,Location.A,Location.B],\n",
      " Location.A,Location.A,Location.B,Location.A: [Location.B,Location.A,Location.B,Location.A,\n",
      "                                               Location.B,Location.B,Location.B,Location.A,\n",
      "                                               Location.B,Location.A,Location.B,Location.B],\n",
      " Location.B,Location.A,Location.B,Location.A: [Location.A,Location.A,Location.B,Location.A,\n",
      "                                               Location.A,Location.A,Location.A,Location.A],\n",
      " Location.B,Location.A,Location.B,Location.B: [Location.A,Location.A,Location.B,Location.B,\n",
      "                                               Location.A,Location.A,Location.A,Location.B,\n",
      "                                               Location.A,Location.A,Location.B,Location.A],\n",
      " Location.A,Location.A,Location.B,Location.B: [Location.B,Location.A,Location.B,Location.B,\n",
      "                                               Location.B,Location.B,Location.B,Location.B],\n",
      " Location.A,Location.A,Location.A,Location.B: [Location.B,Location.A,Location.A,Location.B,\n",
      "                                               Location.B,Location.B,Location.A,Location.B,\n",
      "                                               Location.B,Location.A,Location.B,Location.B],\n",
      " Location.B,Location.B,Location.A,Location.B: [Location.A,Location.B,Location.A,Location.B,\n",
      "                                               Location.A,Location.A,Location.A,Location.B,\n",
      "                                               Location.A,Location.B,Location.A,Location.A],\n",
      " Location.B,Location.A,Location.A,Location.B: [Location.A,Location.A,Location.A,Location.B,\n",
      "                                               Location.A,Location.A,Location.A,Location.A],\n",
      " Location.A,Location.B,Location.A,Location.B: [Location.B,Location.B,Location.A,Location.B,\n",
      "                                               Location.B,Location.B,Location.B,Location.B]}\n"
     ]
    }
   ],
   "source": [
    "# Check that graph is encoded\n",
    "pprint(graph.edges)"
   ]
  },
  {
   "cell_type": "markdown",
   "id": "d1b7ee0c-a7e3-4941-8881-1588b51b0674",
   "metadata": {},
   "source": [
    "# BFS"
   ]
  },
  {
   "cell_type": "code",
   "execution_count": 32,
   "id": "cf83e81f-a748-42f8-9535-e956e8d1b834",
   "metadata": {},
   "outputs": [],
   "source": [
    "def bfs(root):\n",
    "    queue = [[root]]\n",
    "    visited = set([])\n",
    "    i=0\n",
    "    while len(queue) != 0:\n",
    "        path = queue.pop()\n",
    "        node = path[-1]\n",
    "        if node == goal_state:\n",
    "            return path\n",
    "        for edge in graph.edges[node]:\n",
    "            if edge not in visited:\n",
    "                visited.add(edge)\n",
    "                new_path = list(path)\n",
    "                new_path.append(edge)\n",
    "                queue.append(new_path) \n",
    "        i+=1\n",
    "        print(\"interations:\", i)"
   ]
  },
  {
   "cell_type": "code",
   "execution_count": 33,
   "id": "db0047d6-47c2-4bc3-9f33-639b51140454",
   "metadata": {},
   "outputs": [
    {
     "name": "stdout",
     "output_type": "stream",
     "text": [
      "interations: 1\n",
      "interations: 2\n",
      "interations: 3\n",
      "interations: 4\n",
      "interations: 5\n",
      "interations: 6\n",
      "interations: 7\n",
      "interations: 8\n",
      "interations: 9\n"
     ]
    },
    {
     "data": {
      "text/plain": [
       "[Location.A,Location.A,Location.A,Location.A,\n",
       " Location.B,Location.A,Location.A,Location.B,\n",
       " Location.A,Location.A,Location.A,Location.B,\n",
       " Location.B,Location.A,Location.B,Location.B,\n",
       " Location.A,Location.A,Location.B,Location.A,\n",
       " Location.B,Location.B,Location.B,Location.A,\n",
       " Location.A,Location.B,Location.B,Location.A,\n",
       " Location.B,Location.B,Location.B,Location.B]"
      ]
     },
     "execution_count": 33,
     "metadata": {},
     "output_type": "execute_result"
    }
   ],
   "source": [
    "bfs(initial_state)"
   ]
  },
  {
   "cell_type": "markdown",
   "id": "64e762ea-c7b3-4119-9c22-c1351b8c78cd",
   "metadata": {},
   "source": [
    "# DFS"
   ]
  },
  {
   "cell_type": "code",
   "execution_count": 12,
   "id": "31f04c4f-fd53-4d8f-9080-45f29c238d88",
   "metadata": {},
   "outputs": [],
   "source": [
    "def dfs(root):\n",
    "    stack = [[root]]\n",
    "    visited = set([])\n",
    "    i=0\n",
    "    while len(stack) != 0:\n",
    "        path = stack.pop(len(stack)-1)\n",
    "        node = path[-1]\n",
    "        visited.add(node)\n",
    "        if node == goal_state:\n",
    "            return path\n",
    "        for edge in graph.edges[node]:\n",
    "            if edge not in visited:\n",
    "                visited.add(edge)\n",
    "                new_path = list(path)\n",
    "                new_path.append(edge)\n",
    "                stack.append(new_path)\n",
    "        i+=1\n",
    "        print(\"interations: i"
   ]
  },
  {
   "cell_type": "code",
   "execution_count": 13,
   "id": "1c7d0be9-6756-4ede-b501-1596f2d7025c",
   "metadata": {},
   "outputs": [
    {
     "data": {
      "text/plain": [
       "[Location.A,Location.A,Location.A,Location.A,\n",
       " Location.B,Location.A,Location.B,Location.A,\n",
       " Location.A,Location.A,Location.B,Location.A,\n",
       " Location.B,Location.A,Location.B,Location.B,\n",
       " Location.A,Location.A,Location.A,Location.B,\n",
       " Location.B,Location.B,Location.A,Location.B,\n",
       " Location.A,Location.B,Location.A,Location.B,\n",
       " Location.B,Location.B,Location.B,Location.B]"
      ]
     },
     "execution_count": 13,
     "metadata": {},
     "output_type": "execute_result"
    }
   ],
   "source": [
    "dfs(initial_state)"
   ]
  },
  {
   "cell_type": "code",
   "execution_count": null,
   "id": "d3894fad-1db3-46c7-ad8f-f845d6efe38d",
   "metadata": {},
   "outputs": [],
   "source": []
  }
 ],
 "metadata": {
  "kernelspec": {
   "display_name": "Python 3 (ipykernel)",
   "language": "python",
   "name": "python3"
  },
  "language_info": {
   "codemirror_mode": {
    "name": "ipython",
    "version": 3
   },
   "file_extension": ".py",
   "mimetype": "text/x-python",
   "name": "python",
   "nbconvert_exporter": "python",
   "pygments_lexer": "ipython3",
   "version": "3.11.7"
  }
 },
 "nbformat": 4,
 "nbformat_minor": 5
}
