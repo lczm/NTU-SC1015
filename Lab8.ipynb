{
 "cells": [
  {
   "cell_type": "markdown",
   "id": "fcdafa25-96d6-437e-b443-932a52b70c76",
   "metadata": {},
   "source": [
    "# Wolf, goat and cabbage problem\n",
    "\n",
    "River crossing puzzle.\n",
    "\n",
    "There is a wolf, farmer, goat and cabbage. They need go from one side of the river to the other side. There are certain rules in place.\n",
    "\n",
    "The wolf and the goat cannot be together when the farmer is away.\n",
    "The goat and the cabbage cannot be together when the farmer is away.\n",
    "\n",
    "How do we find the path to letting all of them cross the river?"
   ]
  },
  {
   "cell_type": "code",
   "execution_count": 49,
   "id": "e82da410-332c-4085-9bb4-749b74a76d42",
   "metadata": {},
   "outputs": [],
   "source": [
    "import numpy as np\n",
    "import networkx as nx\n",
    "import matplotlib.pyplot as plt\n",
    "\n",
    "from enum import Enum\n",
    "from copy import deepcopy\n",
    "from pprint import pprint"
   ]
  },
  {
   "cell_type": "markdown",
   "id": "a729291c-a9b3-48c9-a0e6-e86fe11de37e",
   "metadata": {},
   "source": [
    "## Defining the game"
   ]
  },
  {
   "cell_type": "code",
   "execution_count": 50,
   "id": "c216c17a-3fc8-48c7-978c-4b24b6cfc678",
   "metadata": {},
   "outputs": [],
   "source": [
    "class Location(Enum):\n",
    "    A = 1\n",
    "    B = 2\n",
    "\n",
    "class State:\n",
    "    man = Location.A\n",
    "    wolf = Location.A\n",
    "    goat = Location.A\n",
    "    cabbage = Location.A\n",
    "\n",
    "    def __init__(self, man, wolf, goat, cabbage):\n",
    "        self.man = man\n",
    "        self.wolf = wolf\n",
    "        self.goat = goat\n",
    "        self.cabbage = cabbage\n",
    "\n",
    "    def __eq__(self, other):\n",
    "        if (\n",
    "            self.man == other.man\n",
    "            and self.wolf == other.wolf\n",
    "            and self.goat == other.goat\n",
    "            and self.cabbage == other.cabbage\n",
    "        ):\n",
    "            return True\n",
    "        return False\n",
    "\n",
    "    def __hash__(self):\n",
    "        return hash((self.man, self.wolf, self.goat, self.cabbage))\n",
    "\n",
    "    def __str__(self):\n",
    "        s = \"\"\n",
    "        for name, entity in zip([\"M\", \"W\", \"G\", \"C\"], [self.man, self.wolf, self.goat, self.cabbage]):\n",
    "            if entity == Location.A:\n",
    "                s += name\n",
    "        s += \" | \"\n",
    "        for name, entity in zip([\"M\", \"W\", \"G\", \"C\"], [self.man, self.wolf, self.goat, self.cabbage]):\n",
    "            if entity == Location.B:\n",
    "                s += name\n",
    "        return s\n",
    "\n",
    "\n",
    "    def __repr__(self):\n",
    "        s = \"\"\n",
    "        for name, entity in zip([\"M\", \"W\", \"G\", \"C\"], [self.man, self.wolf, self.goat, self.cabbage]):\n",
    "            if entity == Location.A:\n",
    "                s += name\n",
    "        s += \" | \"\n",
    "        for name, entity in zip([\"M\", \"W\", \"G\", \"C\"], [self.man, self.wolf, self.goat, self.cabbage]):\n",
    "            if entity == Location.B:\n",
    "                s += name\n",
    "        return s\n",
    "\n"
   ]
  },
  {
   "cell_type": "markdown",
   "id": "599f5ac7-fe97-4754-b8b5-9e676103b9c5",
   "metadata": {},
   "source": [
    "Let's first define the start and end state"
   ]
  },
  {
   "cell_type": "code",
   "execution_count": 51,
   "id": "dab9ff4d-ed8b-470a-8cd5-d42c0b868cd3",
   "metadata": {},
   "outputs": [],
   "source": [
    "initial_state = State(Location.A, Location.A, Location.A, Location.A)\n",
    "goal_state = State(Location.B, Location.B, Location.B, Location.B)"
   ]
  },
  {
   "cell_type": "code",
   "execution_count": 52,
   "id": "09744d1d-4397-4499-9aed-382dfdde1246",
   "metadata": {},
   "outputs": [],
   "source": [
    "class Graph:\n",
    "    def __init__(self):\n",
    "        self.edges = {}\n",
    "\n",
    "    def neighbors(self, node):\n",
    "        return self.edges[node]\n",
    "\n",
    "\n",
    "graph = Graph()"
   ]
  },
  {
   "cell_type": "code",
   "execution_count": 53,
   "id": "2aeb7966-0e5e-4cf8-b694-ee4fbed9b6e2",
   "metadata": {},
   "outputs": [],
   "source": [
    "def is_valid(state):\n",
    "    if state.goat == state.cabbage and state.man != state.goat:\n",
    "        return False\n",
    "    if state.wolf == state.goat and state.man != state.wolf:\n",
    "        return False\n",
    "    return True\n",
    "\n",
    "\n",
    "def next_states(state):\n",
    "    current = state.man\n",
    "    next = Location.B if state.man == Location.A else Location.A\n",
    "    moves = []\n",
    "    # Include the farmer moving by himself\n",
    "    alone = deepcopy(state)\n",
    "    alone.man = next\n",
    "    moves.append(alone)\n",
    "\n",
    "    for thing in [\"goat\", \"wolf\", \"cabbage\"]:\n",
    "        if getattr(state, thing) == state.man:\n",
    "            copy = deepcopy(state)\n",
    "            setattr(copy, thing, next)\n",
    "            copy.man = next\n",
    "            moves.append(copy)\n",
    "\n",
    "    return moves"
   ]
  },
  {
   "cell_type": "code",
   "execution_count": 54,
   "id": "091cca46-4b8e-41d2-a04f-d2c2485ce49c",
   "metadata": {},
   "outputs": [],
   "source": [
    "# Encode all states into the graph\n",
    "def encode(state):\n",
    "    if state == goal_state:\n",
    "        return\n",
    "    if state not in graph.edges.keys():\n",
    "        nodes = next_states(state)\n",
    "        graph.edges[state] = nodes\n",
    "        for node in nodes:\n",
    "            if is_valid(node):\n",
    "                encode(node)"
   ]
  },
  {
   "cell_type": "code",
   "execution_count": 55,
   "id": "e20a58b7-51f8-4dbd-a9bb-73a44d6cd4cd",
   "metadata": {},
   "outputs": [],
   "source": [
    "encode(initial_state)"
   ]
  },
  {
   "cell_type": "code",
   "execution_count": 56,
   "id": "80c80b25-f4dd-434d-a637-932cd194b478",
   "metadata": {},
   "outputs": [
    {
     "name": "stdout",
     "output_type": "stream",
     "text": [
      "{C | MWG: [MC | WG, MGC | W, MWC | G],\n",
      " MGC | W: [GC | MW, C | MWG, G | MWC],\n",
      " G | MWC: [MG | WC, MWG | C, MGC | W],\n",
      " MWG | C: [WG | MC, W | MGC, G | MWC],\n",
      " MG | WC: [G | MWC,  | MWGC],\n",
      " W | MGC: [MW | GC, MWG | C, MWC | G],\n",
      " WC | MG: [MWC | G, MWGC | ],\n",
      " MWGC | : [WGC | M, WC | MG, GC | MW, WG | MC],\n",
      " MWC | G: [WC | MG, C | MWG, W | MGC]}\n"
     ]
    }
   ],
   "source": [
    "# Check that graph is encoded\n",
    "#{MWGC | : [WGC | M, WG | MC, WC | MG, GC | MW],\n",
    "pprint(graph.edges)"
   ]
  },
  {
   "cell_type": "markdown",
   "id": "f965fd8b-79b4-462e-8f2a-a238cb5e85fd",
   "metadata": {},
   "source": [
    "# Show graph"
   ]
  },
  {
   "cell_type": "code",
   "execution_count": 57,
   "id": "6315ec82-11cf-4dbe-84b4-09f327525b6c",
   "metadata": {},
   "outputs": [],
   "source": [
    "edges = set([])\n",
    "for k, v in graph.edges.items():\n",
    "    for e in v:\n",
    "        edges.add((str(k), str(e)))\n",
    "edges = list(edges)"
   ]
  },
  {
   "cell_type": "code",
   "execution_count": 58,
   "id": "9f041ff8-262c-4a3e-8b84-6162cadf38e7",
   "metadata": {},
   "outputs": [
    {
     "data": {
      "image/png": "[encoded data removed]",
      "text/plain": [
       "<Figure size 2400x1200 with 1 Axes>"
      ]
     },
     "metadata": {},
     "output_type": "display_data"
    }
   ],
   "source": [
    "G = nx.DiGraph()\n",
    "G.add_edges_from(edges)\n",
    "\n",
    "val_map = {\n",
    "    'MWGC | ' : 1.0,\n",
    "    ' | MWGC' : 1.0,\n",
    "}\n",
    "values = [val_map.get(node, 0.25) for node in G.nodes()]\n",
    "f, axes = plt.subplots(1, 1, figsize=(24, 12))\n",
    "\n",
    "pos = nx.spring_layout(G)\n",
    "# Draw the circle nodes\n",
    "nx.draw_networkx_nodes(G, pos, cmap=plt.get_cmap('jet'), node_color=values, node_size = 2500)\n",
    "# Draw the node labels\n",
    "nx.draw_networkx_labels(G, pos, font_color='whitesmoke')\n",
    "nx.draw_networkx_edges(G, pos, edgelist=edges, arrows=False)\n",
    "plt.show()"
   ]
  },
  {
   "cell_type": "markdown",
   "id": "d1b7ee0c-a7e3-4941-8881-1588b51b0674",
   "metadata": {},
   "source": [
    "# BFS"
   ]
  },
  {
   "cell_type": "code",
   "execution_count": 59,
   "id": "cf83e81f-a748-42f8-9535-e956e8d1b834",
   "metadata": {},
   "outputs": [],
   "source": [
    "def bfs(root):\n",
    "    queue = [[root]]\n",
    "    visited = set([])\n",
    "    iterations = 0\n",
    "    while len(queue) != 0:\n",
    "        path = queue.pop(0)\n",
    "        iterations += 1\n",
    "        node = path[-1]\n",
    "        if node == goal_state:\n",
    "            return (iterations, path)\n",
    "        if node in graph.edges:\n",
    "            for edge in graph.edges[node]:\n",
    "                if edge not in visited:\n",
    "                    visited.add(edge)\n",
    "                    new_path = list(path)\n",
    "                    new_path.append(edge)\n",
    "                    queue.append(new_path)"
   ]
  },
  {
   "cell_type": "code",
   "execution_count": 60,
   "id": "db0047d6-47c2-4bc3-9f33-639b51140454",
   "metadata": {},
   "outputs": [
    {
     "data": {
      "text/plain": [
       "(16, [MWGC | , WC | MG, MWC | G, C | MWG, MGC | W, G | MWC, MG | WC,  | MWGC])"
      ]
     },
     "execution_count": 60,
     "metadata": {},
     "output_type": "execute_result"
    }
   ],
   "source": [
    "bfs(initial_state)"
   ]
  },
  {
   "cell_type": "markdown",
   "id": "66764eea-24e3-4af2-9fec-6149e6b53fd6",
   "metadata": {},
   "source": [
    "With **Breath First Search** we enqueue the next available nodes and explore the frontier nodes with incerasing depth level"
   ]
  },
  {
   "cell_type": "markdown",
   "id": "64e762ea-c7b3-4119-9c22-c1351b8c78cd",
   "metadata": {},
   "source": [
    "# DFS"
   ]
  },
  {
   "cell_type": "code",
   "execution_count": 61,
   "id": "ab774eee",
   "metadata": {},
   "outputs": [],
   "source": [
    "def dfs(root):\n",
    "    stack = [[root]]\n",
    "    visited = set([])\n",
    "    iterations = 0\n",
    "    while len(stack) != 0:\n",
    "        path = stack.pop(len(stack)-1)\n",
    "        iterations += 1\n",
    "        node = path[-1]\n",
    "        visited.add(node)\n",
    "        if node == goal_state:\n",
    "            return (iterations, path)\n",
    "        if node in graph.edges:\n",
    "            for edge in graph.edges[node]:\n",
    "                if edge not in visited:\n",
    "                    visited.add(edge)\n",
    "                    new_path = list(path)\n",
    "                    new_path.append(edge)\n",
    "                    stack.append(new_path)"
   ]
  },
  {
   "cell_type": "code",
   "execution_count": 62,
   "id": "1c7d0be9-6756-4ede-b501-1596f2d7025c",
   "metadata": {},
   "outputs": [
    {
     "data": {
      "text/plain": [
       "(11, [MWGC | , WC | MG, MWC | G, W | MGC, MWG | C, G | MWC, MG | WC,  | MWGC])"
      ]
     },
     "execution_count": 62,
     "metadata": {},
     "output_type": "execute_result"
    }
   ],
   "source": [
    "dfs(initial_state)"
   ]
  },
  {
   "cell_type": "markdown",
   "id": "e48c68f0-7ae3-4fe5-93b0-5545b8ddad4f",
   "metadata": {},
   "source": [
    "With **Depth First Search(DFS)**, we explore each frontier node depth wise. \n",
    "\n",
    "As can be seen by the solution cost = 11, it is faster than breath first search"
   ]
  },
  {
   "cell_type": "markdown",
   "id": "8597aba8-ad53-465f-b4b8-ed262446b9b9",
   "metadata": {},
   "source": [
    "# Iterative deepening search"
   ]
  },
  {
   "cell_type": "code",
   "execution_count": 63,
   "id": "11ccdc36-a2d9-4a62-bd36-2d103a7a3b98",
   "metadata": {},
   "outputs": [],
   "source": [
    "def iterative_deepening_search(start_state, goal_state, max_depth):\n",
    "    nodes_visited = 0\n",
    "\n",
    "    for depth in range(max_depth):\n",
    "        result, visited = depth_limited_search(start_state, goal_state, depth)\n",
    "        nodes_visited = visited\n",
    "        \n",
    "        print(\"Max Depth:\", depth, result, \"Nodes visited =\", nodes_visited)\n",
    "        if result:\n",
    "            return result, nodes_visited\n",
    "\n",
    "    return None, nodes_visited\n",
    "\n",
    "def depth_limited_search(state, goal_state, depth):\n",
    "    visited = set()\n",
    "\n",
    "    return recursive_dls(state, goal_state, depth, visited), len(visited)\n",
    "\n",
    "def recursive_dls(state, goal_state, depth, visited):\n",
    "    visited.add(state)\n",
    "\n",
    "    if state == goal_state:\n",
    "        return [state]\n",
    "\n",
    "    if depth == 0:\n",
    "        return None\n",
    "\n",
    "    if state in graph.edges:\n",
    "        for move in graph.edges[state]:\n",
    "            if move not in visited:\n",
    "                result = recursive_dls(move, goal_state, depth - 1, visited)\n",
    "                if result:\n",
    "                    result.insert(0, state)\n",
    "                    return result\n",
    "\n",
    "    return None"
   ]
  },
  {
   "cell_type": "markdown",
   "id": "a73156aa",
   "metadata": {},
   "source": [
    "With **iterative deepening search** we increase the max depth of the breadth first search to a defined cut off. We do this to avoid infinite searching but the **limitation** is that we may not find a solution for a low max depth. This an optimisation technique for BFS in the event the search graph is very **deep**\n",
    "\n",
    "We can see with a higher depth, we visit more nodes."
   ]
  },
  {
   "cell_type": "code",
   "execution_count": 66,
   "id": "5df383af-e610-406a-aa48-6ea3d80fd192",
   "metadata": {},
   "outputs": [
    {
     "name": "stdout",
     "output_type": "stream",
     "text": [
      "Max Depth: 0 None Nodes visited = 1\n",
      "Max Depth: 1 None Nodes visited = 5\n",
      "Max Depth: 2 None Nodes visited = 6\n",
      "Max Depth: 3 None Nodes visited = 8\n",
      "Max Depth: 4 None Nodes visited = 12\n",
      "Max Depth: 5 None Nodes visited = 13\n",
      "Max Depth: 6 None Nodes visited = 14\n",
      "Max Depth: 7 [MWGC | , WC | MG, MWC | G, C | MWG, MGC | W, G | MWC, MG | WC,  | MWGC] Nodes visited = 11\n"
     ]
    },
    {
     "data": {
      "text/plain": [
       "([MWGC | , WC | MG, MWC | G, C | MWG, MGC | W, G | MWC, MG | WC,  | MWGC], 11)"
      ]
     },
     "execution_count": 66,
     "metadata": {},
     "output_type": "execute_result"
    }
   ],
   "source": [
    "iterative_deepening_search(initial_state, goal_state, 9)"
   ]
  },
  {
   "cell_type": "markdown",
   "id": "42c0b98b-0f3f-4add-91fc-ec258e2ec185",
   "metadata": {},
   "source": [
    "# Constraint forward checking"
   ]
  },
  {
   "cell_type": "code",
   "execution_count": 64,
   "id": "aef877d0-302e-42c6-bc58-4fafe9c347b6",
   "metadata": {},
   "outputs": [],
   "source": [
    "def constriant_forwardchecking(root):\n",
    "    stack = [[root]]\n",
    "    visited = set([])\n",
    "    iterations = 0\n",
    "    while len(stack) != 0:\n",
    "        path = stack.pop(len(stack)-1)\n",
    "        iterations += 1\n",
    "        node = path[-1]\n",
    "        visited.add(node)\n",
    "        if node == goal_state:\n",
    "            return (iterations, path)\n",
    "        if node in graph.edges:\n",
    "            for edge in graph.edges[node]:\n",
    "                if edge not in visited and is_valid(edge):\n",
    "                    visited.add(edge)\n",
    "                    new_path = list(path)\n",
    "                    new_path.append(edge)\n",
    "                    stack.append(new_path)"
   ]
  },
  {
   "cell_type": "code",
   "execution_count": 65,
   "id": "a249d90f-4038-4cd2-9157-1216e038e05b",
   "metadata": {},
   "outputs": [
    {
     "data": {
      "text/plain": [
       "(9, [MWGC | , WC | MG, MWC | G, W | MGC, MWG | C, G | MWC, MG | WC,  | MWGC])"
      ]
     },
     "execution_count": 65,
     "metadata": {},
     "output_type": "execute_result"
    }
   ],
   "source": [
    "constriant_forwardchecking(initial_state)"
   ]
  },
  {
   "cell_type": "markdown",
   "id": "4ac0016b-bdcd-4033-94af-f0219d1fb093",
   "metadata": {},
   "source": [
    "With **constraint forward checking**, we check if the next available nodes are valid states before adding to the frontier for exploration, as seen with the cost=9, we only explored 9 nodes to reach solution "
   ]
  },
  {
   "cell_type": "markdown",
   "id": "bb3e4370-ed5f-4d79-921b-49e5e03e77f4",
   "metadata": {},
   "source": [
    "# Uniform Cost Search"
   ]
  },
  {
   "cell_type": "code",
   "execution_count": 67,
   "id": "62bb9ff6-22be-4048-a134-58ad8774139f",
   "metadata": {},
   "outputs": [],
   "source": [
    "def ucs(root):\n",
    "    queue = [(0, [root])]\n",
    "    visited = set()\n",
    "    iterations = 0\n",
    "    while queue:\n",
    "        queue.sort(key = lambda x: x[0])\n",
    "        cost, path = queue.pop(0)\n",
    "        iterations += 1\n",
    "        node = path[-1]\n",
    "        if node == goal_state:\n",
    "            return (iterations, cost, path)\n",
    "        if node in graph.edges:\n",
    "            for edge in graph.edges[node]:\n",
    "                if edge not in visited:\n",
    "                    visited.add(edge)\n",
    "                    new_path = list(path)\n",
    "                    new_path.append(edge)\n",
    "                    new_cost = cost + 1 \n",
    "                    queue.append((new_cost, new_path))"
   ]
  },
  {
   "cell_type": "code",
   "execution_count": 68,
   "id": "e9c8868a-582a-4ff0-80e3-acefe9c21255",
   "metadata": {},
   "outputs": [
    {
     "data": {
      "text/plain": [
       "(16,\n",
       " 7,\n",
       " [MWGC | , WC | MG, MWC | G, C | MWG, MGC | W, G | MWC, MG | WC,  | MWGC])"
      ]
     },
     "execution_count": 68,
     "metadata": {},
     "output_type": "execute_result"
    }
   ],
   "source": [
    "ucs(initial_state)"
   ]
  },
  {
   "cell_type": "markdown",
   "id": "de25a02d-6ab4-483f-a2e2-cb1b345f257a",
   "metadata": {},
   "source": [
    "With **Uniform Cost Search**, we assign an \"edge cost\" to each path. We prioritise the path with the lowest \"edge cost\"."
   ]
  },
  {
   "cell_type": "markdown",
   "id": "c4aa7ff2-9b62-4897-94be-1c50cb76e552",
   "metadata": {},
   "source": [
    "# Greedy Search"
   ]
  },
  {
   "cell_type": "code",
   "execution_count": 69,
   "id": "105b1b67-e10a-4ba4-953b-c16542426923",
   "metadata": {},
   "outputs": [],
   "source": [
    "def h(state):\n",
    "        count = 0\n",
    "        if state.wolf == Location.A:\n",
    "            count += 1\n",
    "        if state.goat == Location.A:\n",
    "            count += 1\n",
    "        if state.cabbage == Location.A:\n",
    "            count += 1\n",
    "        if state.man == Location.A:\n",
    "            count += 1\n",
    "        return count\n",
    "\n",
    "def greedy_search(root):\n",
    "    queue = [(h(root), [root])]\n",
    "    visited = set()\n",
    "    iterations = 0\n",
    "    while queue:\n",
    "        queue.sort(key = lambda x: x[0])\n",
    "        _, path = queue.pop(0)\n",
    "        iterations += 1\n",
    "        node = path[-1]\n",
    "        if node == goal_state:\n",
    "            return (iterations, path)\n",
    "        if node in graph.edges:\n",
    "            for edge in graph.edges[node]:\n",
    "                if edge not in visited:\n",
    "                    visited.add(edge)\n",
    "                    new_path = list(path)\n",
    "                    new_path.append(edge)\n",
    "                    queue.append((h(edge), new_path))"
   ]
  },
  {
   "cell_type": "code",
   "execution_count": 70,
   "id": "d4c23a60-9145-4f5e-8d5b-b023a6aafc84",
   "metadata": {},
   "outputs": [
    {
     "data": {
      "text/plain": [
       "(14, [MWGC | , WC | MG, MWC | G, C | MWG, MGC | W, G | MWC, MG | WC,  | MWGC])"
      ]
     },
     "execution_count": 70,
     "metadata": {},
     "output_type": "execute_result"
    }
   ],
   "source": [
    "greedy_search(initial_state)"
   ]
  },
  {
   "cell_type": "markdown",
   "id": "fcf79fa2-e1de-4cbd-9210-486d2e59e2d1",
   "metadata": {},
   "source": [
    "With **Greedy Search**, we assign a \"cost\" to each path based on a heuristic function. We prioritise the path with the lowest \"cost\".\n",
    "The heuristic function decides the proximity of a node to the goal state. \n",
    "Here, it is decided by the number of elements in location A. h(goal_state)=0"
   ]
  },
  {
   "cell_type": "markdown",
   "id": "611b0a4e",
   "metadata": {},
   "source": [
    "# A star search"
   ]
  },
  {
   "cell_type": "code",
   "execution_count": 71,
   "id": "b060cfac-5c39-4fb5-be17-931435e5b4bd",
   "metadata": {},
   "outputs": [],
   "source": [
    "def a_star(root):\n",
    "    queue = [(h(root), 0, [root])]  # (f-cost, g-cost, path)\n",
    "    visited = set()\n",
    "    iterations = 0\n",
    "    while queue:\n",
    "        queue.sort(key=lambda x: x[0])\n",
    "        _, cost, path = queue.pop(0)\n",
    "        iterations += 1\n",
    "        node = path[-1]\n",
    "        if node == goal_state:\n",
    "            return (iterations, cost, path)\n",
    "        if node in graph.edges:\n",
    "            for edge in graph.edges[node]:\n",
    "                if edge not in visited:\n",
    "                    visited.add(edge)\n",
    "                    new_path = list(path)\n",
    "                    new_path.append(edge)\n",
    "                    new_cost = cost + 1\n",
    "                    queue.append((new_cost + h(edge), new_cost, new_path))  # f-cost = g-cost + h-cost"
   ]
  },
  {
   "cell_type": "code",
   "execution_count": 72,
   "id": "87d4fe96",
   "metadata": {},
   "outputs": [
    {
     "data": {
      "text/plain": [
       "(16,\n",
       " 7,\n",
       " [MWGC | , WC | MG, MWC | G, C | MWG, MGC | W, G | MWC, MG | WC,  | MWGC])"
      ]
     },
     "execution_count": 72,
     "metadata": {},
     "output_type": "execute_result"
    }
   ],
   "source": [
    "a_star(initial_state)"
   ]
  },
  {
   "cell_type": "markdown",
   "id": "c421e4ad",
   "metadata": {},
   "source": [
    "With **A star** search, we use a combination of heuristic and **UCS** to determine which node to expand first by managing the queue data structure to prioritise the lowest cost node. \n",
    "\n",
    "A star combines the benefits of UCS and heuristic by cutting search space while returning a best first search solution"
   ]
  },
  {
   "cell_type": "markdown",
   "id": "7b4ab41a-d61d-442a-b999-fc10c275cc5c",
   "metadata": {},
   "source": [
    "## Conclusion\n",
    "\n",
    "We learnt that there are different search algorithms. We also learnt when to use each search algorithm, as it is dependent on the problem. In our case in this problem, constraint forward checking is the best for us, with the lowest iteration cost to find a solution."
   ]
  },
  {
   "cell_type": "code",
   "execution_count": null,
   "id": "33f70dd8-ad07-48b0-a102-ae816870b0f9",
   "metadata": {},
   "outputs": [],
   "source": []
  }
 ],
 "metadata": {
  "kernelspec": {
   "display_name": "Python 3 (ipykernel)",
   "language": "python",
   "name": "python3"
  },
  "language_info": {
   "codemirror_mode": {
    "name": "ipython",
    "version": 3
   },
   "file_extension": ".py",
   "mimetype": "text/x-python",
   "name": "python",
   "nbconvert_exporter": "python",
   "pygments_lexer": "ipython3",
   "version": "3.11.8"
  }
 },
 "nbformat": 4,
 "nbformat_minor": 5
}
